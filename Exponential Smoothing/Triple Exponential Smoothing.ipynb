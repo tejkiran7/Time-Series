{
 "cells": [
  {
   "cell_type": "code",
   "execution_count": null,
   "id": "004593b5",
   "metadata": {},
   "outputs": [],
   "source": [
    "import pandas as pd\n",
    "import numpy as np\n",
    "from sklearn import metrics\n",
    "import matplotlib.pyplot as plt\n",
    "from timeit import default_timer as timer\n",
    "from statsmodels.tsa.api import ExponentialSmoothing, SimpleExpSmoothing, Holt\n",
    "from pylab import rcParams\n",
    "rcParams['figure.figsize'] = 20, 5 "
   ]
  },
  {
   "cell_type": "code",
   "execution_count": null,
   "id": "2d50a65a",
   "metadata": {},
   "outputs": [],
   "source": [
    "import warnings\n",
    "warnings.filterwarnings('ignore')"
   ]
  },
  {
   "cell_type": "code",
   "execution_count": null,
   "id": "074bc8f4",
   "metadata": {},
   "outputs": [],
   "source": [
    "df = pd.read_csv(r'C:\\Users\\TEJKIRAN\\Desktop\\Datasets\\Electric_Production.csv',parse_dates=['DATE'], index_col='DATE')\n",
    "df.head()"
   ]
  },
  {
   "cell_type": "code",
   "execution_count": null,
   "id": "c02139ee",
   "metadata": {},
   "outputs": [],
   "source": [
    "train = df.iloc[:-79]"
   ]
  },
  {
   "cell_type": "code",
   "execution_count": null,
   "id": "ae61cbef",
   "metadata": {},
   "outputs": [],
   "source": [
    "test = df.iloc[-79:]"
   ]
  },
  {
   "cell_type": "code",
   "execution_count": null,
   "id": "650f8a2d",
   "metadata": {},
   "outputs": [],
   "source": [
    "def timeseries_evaluation_metrics_func(y_true, y_pred):\n",
    "    \n",
    "    def mean_absolute_percentage_error(y_true, y_pred): \n",
    "        y_true, y_pred = np.array(y_true), np.array(y_pred)\n",
    "        return np.mean(np.abs((y_true - y_pred) / y_true)) * 100\n",
    "    print('Evaluation metric results:-')\n",
    "    print(f'MSE is : {metrics.mean_squared_error(y_true, y_pred)}')\n",
    "    print(f'MAE is : {metrics.mean_absolute_error(y_true, y_pred)}')\n",
    "    print(f'RMSE is : {np.sqrt(metrics.mean_squared_error(y_true, y_pred))}')\n",
    "    print(f'MAPE is : {mean_absolute_percentage_error(y_true, y_pred)}')\n",
    "    print(f'R2 is : {metrics.r2_score(y_true, y_pred)}',end='\\n\\n')"
   ]
  },
  {
   "cell_type": "code",
   "execution_count": null,
   "id": "2ce3ef65",
   "metadata": {},
   "outputs": [],
   "source": [
    "from sklearn.model_selection import ParameterGrid\n",
    "param_grid = {'trend': ['add', 'mul'],'seasonal' :['add', 'mul'],'seasonal_periods':[3,6,12], 'smoothing_level': [0.10, 0.20,.30,.40,.50,.60,.70,.80,.90], 'smoothing_slope':[0.10, 0.20,.30,.40,.50,.60,.70,.80,.90],\n",
    "              'damping_slope': [0.10, 0.20,.30,.40,.50,.60,.70,.80,.90],'damped' : [True, False], 'use_boxcox':[True, False],\n",
    "             'remove_bias':[True, False],'use_basinhopping':[True, False]}\n",
    "pg = list(ParameterGrid(param_grid))"
   ]
  },
  {
   "cell_type": "code",
   "execution_count": null,
   "id": "a3dc355a",
   "metadata": {},
   "outputs": [],
   "source": [
    "df_results_moni = pd.DataFrame(columns=['trend','seasonal_periods','smoothing_level', 'smoothing_slope',\n",
    "                                        'damping_slope','damped','use_boxcox','remove_bias','use_basinhopping','RMSE','r2'])\n",
    "start = timer()\n",
    "print('Starting Grid Search..')\n",
    "for a, b in enumerate(pg):\n",
    "    trend = b.get('trend')\n",
    "    smoothing_level = b.get('smoothing_level')\n",
    "    seasonal_periods = b.get('seasonal_periods')\n",
    "    smoothing_slope = b.get('smoothing_slope')\n",
    "    damping_slope = b.get('damping_slope')\n",
    "    damped = b.get('damped')\n",
    "    boxcox = b.get('use_boxcox')\n",
    "    remove_bias = b.get('remove_bias')\n",
    "    use_basinhopping = b.get('use_basinhopping')\n",
    "    \n",
    "    fit1 = ExponentialSmoothing(train, trend=trend, damped=damped, seasonal_periods=seasonal_periods, use_boxcox=boxcox).fit(smoothing_level=smoothing_level, \n",
    "                                    smoothing_slope=smoothing_slope, damping_slope=damping_slope, optimized=False)\n",
    "    z = fit1.forecast(79)\n",
    "    df_pred = pd.DataFrame(z, columns=['Forecasted_result'])\n",
    "    RMSE = np.sqrt(metrics.mean_squared_error(test, df_pred.Forecasted_result))\n",
    "    r2 = metrics.r2_score(test, df_pred.Forecasted_result)\n",
    "    df_results_moni = df_results_moni.append({'trend':trend, 'seasonal_periods':seasonal_periods, 'smoothing_level':smoothing_level, 'smoothing_slope':smoothing_slope,\n",
    "                                              'damping_slope':damping_slope, 'damped':damped, 'use_boxcox':boxcox, 'use_basinhopping':use_basinhopping, 'RMSE':RMSE, 'r2':r2}, ignore_index=True)\n",
    "print('End of Grid Search')\n",
    "end = timer()\n",
    "print(f' Total time taken to complete grid search in seconds: {(end - start)}')\n"
   ]
  },
  {
   "cell_type": "code",
   "execution_count": null,
   "id": "b1f0eb38",
   "metadata": {},
   "outputs": [],
   "source": [
    "print(f' Below mentioned parameter gives least RMSE and r2')\n",
    "df_results_moni.sort_values(by=['RMSE','r2']).head(1)"
   ]
  },
  {
   "cell_type": "code",
   "execution_count": null,
   "id": "a24148dd",
   "metadata": {},
   "outputs": [],
   "source": [
    "df_results_moni.info()"
   ]
  },
  {
   "cell_type": "code",
   "execution_count": null,
   "id": "86cb8ba7",
   "metadata": {},
   "outputs": [],
   "source": [
    "fit1 = ExponentialSmoothing(train,trend='mul', damped=False,seasonal_periods=3 ).fit(smoothing_level=0.9, \n",
    "                                    smoothing_slope=0.6, damping_slope = 0.6,use_boxcox=False,use_basinhopping = True,optimized=False)"
   ]
  },
  {
   "cell_type": "code",
   "execution_count": null,
   "id": "8d8b9830",
   "metadata": {},
   "outputs": [],
   "source": [
    "Forecast_custom_pred = fit1.forecast(79)"
   ]
  },
  {
   "cell_type": "code",
   "execution_count": null,
   "id": "b74fbfc0",
   "metadata": {},
   "outputs": [],
   "source": [
    "fit1.summary()"
   ]
  },
  {
   "cell_type": "code",
   "execution_count": null,
   "id": "5e0a5c12",
   "metadata": {},
   "outputs": [],
   "source": [
    "timeseries_evaluation_metrics_func(test,Forecast_custom_pred)"
   ]
  },
  {
   "cell_type": "code",
   "execution_count": null,
   "id": "9b640932",
   "metadata": {},
   "outputs": [],
   "source": [
    "# Fitting model with optimized =True\n",
    "fitESAUTO = ExponentialSmoothing(train).fit(optimized= True, use_brute = True)"
   ]
  },
  {
   "cell_type": "code",
   "execution_count": null,
   "id": "88c435aa",
   "metadata": {},
   "outputs": [],
   "source": [
    "fitESAUTO.summary()"
   ]
  },
  {
   "cell_type": "code",
   "execution_count": null,
   "id": "12cf3b4d",
   "metadata": {},
   "outputs": [],
   "source": [
    "fitESAUTOpred = fitESAUTO.forecast(79)"
   ]
  },
  {
   "cell_type": "code",
   "execution_count": null,
   "id": "9b8d436e",
   "metadata": {},
   "outputs": [],
   "source": [
    "timeseries_evaluation_metrics_func(test,fitESAUTOpred)"
   ]
  },
  {
   "cell_type": "code",
   "execution_count": null,
   "id": "0209f081",
   "metadata": {},
   "outputs": [],
   "source": [
    "import matplotlib.pyplot as plt\n",
    "get_ipython().run_line_magic('matplotlib', 'inline')\n",
    "plt.rcParams[\"figure.figsize\"] = [16,9]\n",
    "plt.plot( train, label='Train')\n",
    "plt.plot(test, label='Test')\n",
    "plt.plot(fitESAUTOpred, label='Automated grid search')\n",
    "plt.plot(Forecast_custom_pred, label='Triple Exponential Smoothing with custom grid search')\n",
    "plt.legend(loc='best')\n",
    "plt.show()"
   ]
  },
  {
   "cell_type": "code",
   "execution_count": null,
   "id": "adf0e68c",
   "metadata": {},
   "outputs": [],
   "source": []
  },
  {
   "cell_type": "code",
   "execution_count": null,
   "id": "c36b9361",
   "metadata": {},
   "outputs": [],
   "source": []
  }
 ],
 "metadata": {
  "kernelspec": {
   "display_name": "Python 3 (ipykernel)",
   "language": "python",
   "name": "python3"
  },
  "language_info": {
   "codemirror_mode": {
    "name": "ipython",
    "version": 3
   },
   "file_extension": ".py",
   "mimetype": "text/x-python",
   "name": "python",
   "nbconvert_exporter": "python",
   "pygments_lexer": "ipython3",
   "version": "3.9.13"
  }
 },
 "nbformat": 4,
 "nbformat_minor": 5
}
